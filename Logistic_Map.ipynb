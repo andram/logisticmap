{
 "cells": [
  {
   "cell_type": "markdown",
   "metadata": {},
   "source": [
    "# The logistic iterated map\n",
    "\n",
    "Possibly the simplest chaotic system is the logistic iterated map, which can be explained as follows:\n",
    "\n",
    "\n",
    "1. take a number $q$ anywhere between 0 and 4. \n",
    "2. take a number $x_0$ anywhere between 0 and 1.\n",
    "3. calculate further numbers $x_1$, $x_2$ up to say $x_{50}$ by using the following rule on how a number is calculated from the previous one:\n",
    "\\begin{equation}\n",
    " x_{i+1} = q x_{i} (1 - x_{i})\n",
    "\\end{equation}\n",
    "\n",
    "\n",
    "To see how it works, let us look at an example.  Take for example $\\mu = 3$ and $x_0 = 0.3$.  Then according to the above rule we calculate $x_1$ as follows:\n",
    "\\begin{equation}\n",
    " x_1 = q x_0 (1 - x_0) = 3 \\times 0.3 \\times (1 - 0.3) = 0.9 \\times 0.7 = 0.63\n",
    "\\end{equation}\n",
    "\n",
    "Then we can go on and calculate $x_2$ with the same rule:\n",
    "\\begin{equation}\n",
    " x_2 = q x_1 (1 - x_1) = 3 \\times 0.63 \\times (1 - 0.63) = 0.6993\n",
    "\\end{equation}\n",
    "\n",
    "\n",
    "I actually did the last step not in my head, but used the computer to do it. Here is how I did it: I clicked the menu *Insert* on the top of the screen and then selected the item called *Insert Cell Below*. This gives me a new \"cell\" with a little grey frame around it and a blue `In [ ]:` on the left. I then clicked into the cell and the frame around the cell turns green and I get a little cursor with which I can type. I then typed the following:\n",
    "\n",
    "    3*0.63*(1-0.63)\n",
    "followed be *Shift-Return* (i.e. pressing the *Return* key while holding the *Shift* key.) The result of this is the following:"
   ]
  },
  {
   "cell_type": "code",
   "execution_count": 1,
   "metadata": {},
   "outputs": [
    {
     "data": {
      "text/plain": [
       "0.6993"
      ]
     },
     "execution_count": 1,
     "metadata": {},
     "output_type": "execute_result"
    }
   ],
   "source": [
    "3 * 0.63 * (1 - 0.63)"
   ]
  },
  {
   "cell_type": "markdown",
   "metadata": {},
   "source": [
    "As you see, this is the number $x_2$ used above.  Now try, if you can calculate $x_3$ and $x_4$ yourself using this method.  You can use the two empty cells below this one. "
   ]
  },
  {
   "cell_type": "code",
   "execution_count": null,
   "metadata": {
    "collapsed": true
   },
   "outputs": [],
   "source": []
  },
  {
   "cell_type": "code",
   "execution_count": null,
   "metadata": {
    "collapsed": true
   },
   "outputs": [],
   "source": []
  },
  {
   "cell_type": "markdown",
   "metadata": {},
   "source": [
    "So far, the cells simply replace, what you could also do on a simple calculator.  However, you can do more than that. In fact we can use all commands from the [Python](http://www.python.org) programming language in the code cells. Python is one of the most used programming languages worldwide and it is also very easy to learn. Here our intention is to just learn enough of this programming language to do nice mathematics with it.   "
   ]
  },
  {
   "cell_type": "markdown",
   "metadata": {},
   "source": [
    "## Variables in Python\n",
    "\n",
    "In Python you can assign a name to a number.  For example we can write\n",
    "\n",
    "    q = 3\n",
    "    x0 = 0.3\n",
    "    \n",
    "and then we can use `q` and `x0` instead of the respective numbers anytime it is convenient. For example we can calculate $x_1$ and $x_2$ as follows"
   ]
  },
  {
   "cell_type": "code",
   "execution_count": 2,
   "metadata": {},
   "outputs": [
    {
     "name": "stdout",
     "output_type": "stream",
     "text": [
      "0.3\n",
      "0.6299999999999999\n",
      "0.6993\n"
     ]
    }
   ],
   "source": [
    "q = 3\n",
    "x0 = 0.3\n",
    "print(x0)\n",
    "\n",
    "x1 = q * x0 * (1 - x0)\n",
    "print(x1)\n",
    "\n",
    "x2 = q * x1 * (1 - x1)\n",
    "print(x2)"
   ]
  },
  {
   "cell_type": "markdown",
   "metadata": {},
   "source": [
    "In the cell above, I have used multiple lines in one cell. I can do this by simply adding more lines with *Return*. Only when we press *Shift-Return* the whole cell gets executed.  Here I have also used a `print()` function, so that we can see the values of the variables $x_0$, $x_1$ and $x_2$ as we go along.  Also note that the computer does apparently not calculate $x_1$ as 0.63, as we did correctly by hand before.  Instead the computer incorrectly thinks that $x_1$ is $0.6299999999999999$.  This is quite close to the correct result, but not fully correct.  Contrary to common belief, computers do in fact not always calculate correctly!\n",
    "\n",
    "Variables can also be reassigned. For example in the above cell, all of $x_0$ and $x_1$ and $x_2$ can be replaced by a single variable $x$ as follows:"
   ]
  },
  {
   "cell_type": "code",
   "execution_count": 3,
   "metadata": {},
   "outputs": [
    {
     "name": "stdout",
     "output_type": "stream",
     "text": [
      "0.3\n",
      "0.6299999999999999\n",
      "0.6993\n"
     ]
    }
   ],
   "source": [
    "q = 3\n",
    "x = 0.3\n",
    "print(x)\n",
    "\n",
    "x = q * x * (1 - x)\n",
    "print(x)\n",
    "\n",
    "x = q * x * (1 - x)\n",
    "print(x)"
   ]
  },
  {
   "cell_type": "markdown",
   "metadata": {},
   "source": [
    "This works, because for example in the line \n",
    "\n",
    "    x = q * x * (1 - x)\n",
    "the computer uses the \"old\" value of `x` to calculate the right hand side and then assign the result to the new (updated) `x`.  "
   ]
  },
  {
   "cell_type": "markdown",
   "metadata": {},
   "source": [
    "## Loops in Python\n",
    "\n",
    "Note that now the calculation and printing of $x_1$ and for $x_2$, both use precisely the same two lines of code, namely \n",
    "\n",
    "    x = q * x * (1 - x)\n",
    "    print(x)\n",
    "\n",
    "If we now want to calulate the first 20 numbers $x_1$ to $x_{20}$, we could now copy and paste these two lines 20 times.  However, that would be quite boring. Instead we instruct the computer to loop 20 times over these two lines as follows:"
   ]
  },
  {
   "cell_type": "code",
   "execution_count": 4,
   "metadata": {},
   "outputs": [
    {
     "name": "stdout",
     "output_type": "stream",
     "text": [
      "0.3\n",
      "0.6299999999999999\n",
      "0.6993\n",
      "0.63083853\n",
      "0.6986438372023173\n",
      "0.6316218778246178\n",
      "0.6980270438337641\n",
      "0.6323558697313815\n",
      "0.6974457712429487\n",
      "0.6330455022548315\n",
      "0.6968966829892789\n",
      "0.6336950886834581\n",
      "0.6963768697857667\n",
      "0.634308375039432\n",
      "0.6958837811828018\n",
      "0.6348886328085847\n",
      "0.6954151702170924\n",
      "0.6354387337470744\n",
      "0.6949690482029672\n",
      "0.6359612107284871\n",
      "0.6945436475317318\n"
     ]
    }
   ],
   "source": [
    "q = 3\n",
    "x = 0.3\n",
    "print(x)\n",
    "\n",
    "for i in range(1, 20 + 1):\n",
    "    x = q * x * (1 - x)\n",
    "    print(x)"
   ]
  },
  {
   "cell_type": "markdown",
   "metadata": {},
   "source": [
    "What happens here is that `range(1, 20 + 1)` is essentially a list of numbers from `1` to `20`. You can convince yourself of this yourself by printing the contents of `range(1, 20 + 1)` as a list:"
   ]
  },
  {
   "cell_type": "code",
   "execution_count": 5,
   "metadata": {},
   "outputs": [
    {
     "data": {
      "text/plain": [
       "[1, 2, 3, 4, 5, 6, 7, 8, 9, 10, 11, 12, 13, 14, 15, 16, 17, 18, 19, 20]"
      ]
     },
     "execution_count": 5,
     "metadata": {},
     "output_type": "execute_result"
    }
   ],
   "source": [
    "list(range(1, 20 + 1))"
   ]
  },
  {
   "cell_type": "markdown",
   "metadata": {},
   "source": [
    "Note that we need to give the upper limit as `20 + 1` here, which is an idiosyncracy of the Python language, which turns out to be very useful later on.\n",
    "\n",
    "With the code line \n",
    "\n",
    "    for i in range(1, 20 + 1):\n",
    "    \n",
    "we advise the computer to do *something* with all numbers in this list of numbers from `1` to `20`.  *What* precisely the computer should do is given in the next two lines. Note that these two lines have a number of spaces at the beginning and are thus *indented*. This indentation tells the computer over which lines you want to loop. For example change the code in the previous cell as follows:"
   ]
  },
  {
   "cell_type": "code",
   "execution_count": 6,
   "metadata": {},
   "outputs": [
    {
     "name": "stdout",
     "output_type": "stream",
     "text": [
      "0.3\n",
      "0.6945436475317318\n"
     ]
    }
   ],
   "source": [
    "q = 3\n",
    "x = 0.3\n",
    "print(x)\n",
    "\n",
    "for i in range(1, 20 + 1):\n",
    "    x = q * x * (1 - x)\n",
    "print(x)"
   ]
  },
  {
   "cell_type": "markdown",
   "metadata": {},
   "source": [
    "All that has changed is that now the indentation before `print(x)` has disappeared. As a consequence this statement is outside the loop and performed only once, after the loop has finished. \n",
    "\n",
    "Let us put back the identation as it was before, but change the `print(x)` line into `print(i,x)` to show the indices corresponding to individual numbers:"
   ]
  },
  {
   "cell_type": "code",
   "execution_count": 7,
   "metadata": {},
   "outputs": [
    {
     "name": "stdout",
     "output_type": "stream",
     "text": [
      "0 0.3\n",
      "1 0.6299999999999999\n",
      "2 0.6993\n",
      "3 0.63083853\n",
      "4 0.6986438372023173\n",
      "5 0.6316218778246178\n",
      "6 0.6980270438337641\n",
      "7 0.6323558697313815\n",
      "8 0.6974457712429487\n",
      "9 0.6330455022548315\n",
      "10 0.6968966829892789\n",
      "11 0.6336950886834581\n",
      "12 0.6963768697857667\n",
      "13 0.634308375039432\n",
      "14 0.6958837811828018\n",
      "15 0.6348886328085847\n",
      "16 0.6954151702170924\n",
      "17 0.6354387337470744\n",
      "18 0.6949690482029672\n",
      "19 0.6359612107284871\n",
      "20 0.6945436475317318\n"
     ]
    }
   ],
   "source": [
    "q = 3\n",
    "x = 0.3\n",
    "print(0, x)\n",
    "\n",
    "for i in range(1, 20 + 1):\n",
    "    x = q * x * (1 - x)\n",
    "    print(i, x)"
   ]
  },
  {
   "cell_type": "markdown",
   "metadata": {},
   "source": [
    "## Plotting your output\n",
    "\n",
    "Given this output, we can immediately read off $x_{12} = 0.6963768697857667$ for example.  In practice it is however boring to deal with long lists of numbers.  Nice plots are much nicer.  Let us therefore plot the values of $x_i$ on the $y$ axis versus the corresponding index $i$ on the $x$ axis.  In other words, let us plot some dots at coordinates $(i,x_i)$ in a cartesian coordinate system.  It turns out that this is quite easy with Python. The essential change is to replace \n",
    "\n",
    "    print(i, x)\n",
    "    \n",
    "with \n",
    "\n",
    "    plt.plot(i, x, \"bo\")\n",
    "\n",
    "There are some more additions, but let's first look at the code:"
   ]
  },
  {
   "cell_type": "code",
   "execution_count": 8,
   "metadata": {},
   "outputs": [
    {
     "data": {
      "text/plain": [
       "Text(0,0.5,'x_i')"
      ]
     },
     "execution_count": 8,
     "metadata": {},
     "output_type": "execute_result"
    },
    {
     "data": {
      "image/png": "[encoded data removed]",
      "text/plain": [
       "<matplotlib.figure.Figure at 0x7f9f54223b70>"
      ]
     },
     "metadata": {},
     "output_type": "display_data"
    }
   ],
   "source": [
    "%matplotlib inline\n",
    "import matplotlib.pyplot as plt\n",
    "\n",
    "q = 3.7\n",
    "x = 0.3\n",
    "plt.plot(0, x, \"bo\")\n",
    "\n",
    "for i in range(1,20+1):\n",
    "    x = q * x * (1 - x)\n",
    "    plt.plot(i, x,\"bo\")\n",
    "\n",
    "plt.ylim([0,1])\n",
    "plt.xlabel(\"i\")\n",
    "plt.ylabel(\"x_i\")"
   ]
  },
  {
   "cell_type": "markdown",
   "metadata": {},
   "source": [
    "The first two lines in the previous cell are \n",
    "\n",
    "    %matplotlib inline\n",
    "    import matplotlib.pyplot as plt\n",
    "\n",
    "How these lines really work is somewhat difficult to explain at a basic level, but essentially what they do is to prepare the Python language for plotting.  The reason is that Python can and is used for many different applications, from playing games to controlling nuclear power plants. However, when you start Python, it cannot know what you want to use it for today.  With these two lines you essentially say, \"let's do a bit of plotting graphs today, could you please get ready for it?\".  More technically correct, this imports a specific plotting library of code, which is called [matplotlib](http://www.matplotlib.org). The above two lines only need to be executed once per session.  (People often put it at the beginning of the notebook.)\n",
    "\n",
    "After the import command all commands starting with `plt.????` will refer to a command from that library.  One example is \n",
    "\n",
    "    plt.plot(i, x, \"bo\")\n",
    "    \n",
    "which puts a **b**lue (`b`) circle (`o`) at coordinates $(i,x)$.  If instead of *blue circles* you would like to have **r**ed **s**quares, you can replace this line with \n",
    "\n",
    "    plt.plot(i, x, \"rs\")\n",
    "    \n",
    "Try it out!\n",
    "\n",
    "How do I know, that `\"rs\"` corresponds to red squares?  I looked it up on the online help of the plot command. To do this put your coursor anywhere between the two brackets of the `plt.plot(i, x, \"bo\")` command in the previous code cell.  Then press `Shift-Tab` and a small window with some help text should appear. If you push `Shift-Tab` a couple of times, this help text should become bigger and bigger and you can read through it.  This help system works with most commands. \n",
    "\n",
    "After the loop I add a couple of more lines to make the plot look neater:\n",
    "\n",
    "    plt.ylim([0,1])\n",
    "    \n",
    "puts the range of the $y$ axis to go go from 0 to 1. (Check what happens if you leave it out).\n",
    "    \n",
    "    plt.xlabel(\"i\")\n",
    "    plt.ylabel(\"x_i\")\n",
    "    \n",
    "labels the axes. Every graph you plot should be labeled to make clear what it shows. \n",
    "    "
   ]
  },
  {
   "cell_type": "markdown",
   "metadata": {},
   "source": [
    "## Functions\n",
    "\n",
    "One of the most powerful concepts in programming is the concept of the *function*. A function allows you to delegate tasks to others. For example, when we did `plt.plot(i, x, \"bo\")` we used a function for the task of plotting, which was previously implemented by graphics programmers.  In this case `plt.plot` would be the *function name* and `i`, `x` and `\"bo\"` would be *function arguments*. \n",
    "\n",
    "A simple example of a function in Python would be:"
   ]
  },
  {
   "cell_type": "code",
   "execution_count": 9,
   "metadata": {
    "collapsed": true
   },
   "outputs": [],
   "source": [
    "def myprint(p):\n",
    "    print(\"Hello\", p)"
   ]
  },
  {
   "cell_type": "markdown",
   "metadata": {},
   "source": [
    "This defines a function with the name `myprint` and a single parameter `p`.  The body of this function consists of only one line `print(\"Hello\", p)`. Note that this line is again indented, i.e. a number of spaces appear before it. If we type `Shift-return` in the above cell, nothing seems to happen, but in fact the function `myprint()` is now defined.  We can now use (i.e. *call*) this functions with different arguments, for example:"
   ]
  },
  {
   "cell_type": "code",
   "execution_count": 10,
   "metadata": {},
   "outputs": [
    {
     "name": "stdout",
     "output_type": "stream",
     "text": [
      "Hello there!\n"
     ]
    }
   ],
   "source": [
    "myprint(\"there!\")"
   ]
  },
  {
   "cell_type": "code",
   "execution_count": 11,
   "metadata": {},
   "outputs": [
    {
     "name": "stdout",
     "output_type": "stream",
     "text": [
      "Hello 5\n"
     ]
    }
   ],
   "source": [
    "myprint(5)"
   ]
  },
  {
   "cell_type": "markdown",
   "metadata": {},
   "source": [
    "We see that in each case the parameter `p` is replaced with the argument of the function call and then the `print(\"Hello\", p)` is executed. If we simply call `myprint()` we get an error, as it expects one argument:"
   ]
  },
  {
   "cell_type": "code",
   "execution_count": 12,
   "metadata": {},
   "outputs": [
    {
     "ename": "TypeError",
     "evalue": "myprint() missing 1 required positional argument: 'p'",
     "output_type": "error",
     "traceback": [
      "\u001b[0;31m---------------------------------------------------------------------------\u001b[0m",
      "\u001b[0;31mTypeError\u001b[0m                                 Traceback (most recent call last)",
      "\u001b[0;32m<ipython-input-12-58056e2bbe75>\u001b[0m in \u001b[0;36m<module>\u001b[0;34m()\u001b[0m\n\u001b[0;32m----> 1\u001b[0;31m \u001b[0mmyprint\u001b[0m\u001b[0;34m(\u001b[0m\u001b[0;34m)\u001b[0m\u001b[0;34m\u001b[0m\u001b[0m\n\u001b[0m",
      "\u001b[0;31mTypeError\u001b[0m: myprint() missing 1 required positional argument: 'p'"
     ]
    }
   ],
   "source": [
    "myprint()"
   ]
  },
  {
   "cell_type": "markdown",
   "metadata": {},
   "source": [
    "Let's modify `myprint()` slightly, so that it also works, if no argument is supplied:"
   ]
  },
  {
   "cell_type": "code",
   "execution_count": 13,
   "metadata": {
    "collapsed": true
   },
   "outputs": [],
   "source": [
    "def myprint2(p=\"World!\"):\n",
    "    print(\"Hello\", p)"
   ]
  },
  {
   "cell_type": "markdown",
   "metadata": {},
   "source": [
    "which now yields"
   ]
  },
  {
   "cell_type": "code",
   "execution_count": 14,
   "metadata": {},
   "outputs": [
    {
     "name": "stdout",
     "output_type": "stream",
     "text": [
      "Hello World!\n",
      "Hello Folks!\n",
      "Hello 14\n"
     ]
    }
   ],
   "source": [
    "myprint2()\n",
    "myprint2(\"Folks!\")\n",
    "myprint2(p=14)"
   ]
  },
  {
   "cell_type": "markdown",
   "metadata": {},
   "source": [
    "Instead of just a single line, we can now put the full plotting code  of our iterated map into a function.  For example consider:"
   ]
  },
  {
   "cell_type": "code",
   "execution_count": 15,
   "metadata": {},
   "outputs": [],
   "source": [
    "def myplot(q=3, x0=0.3, N=20):\n",
    "    x = x0\n",
    "    plt.plot(0, x, \"bo\")\n",
    "\n",
    "    for i in range(1,N+1):\n",
    "        x = q * x * (1 - x)\n",
    "        plt.plot(i, x,\"bo\")\n",
    "\n",
    "    plt.title(\"q = \" + str(q))\n",
    "    plt.ylim([0,1])\n",
    "    plt.xlabel(\"i\")\n",
    "    plt.ylabel(\"x_i\")\n",
    "    plt.show()"
   ]
  },
  {
   "cell_type": "markdown",
   "metadata": {},
   "source": [
    "This function `myplot()` contains the full block of code we discussed previously, but at one additional level of indention.  This function has three parameters `q`, `x0` and `N` with the corresponding default values `3`, `0.3` and `20`, respectively.  If we thus call this function without arguments, we get back our previous plot:"
   ]
  },
  {
   "cell_type": "code",
   "execution_count": 16,
   "metadata": {},
   "outputs": [
    {
     "data": {
      "image/png": "[encoded data removed]",
      "text/plain": [
       "<matplotlib.figure.Figure at 0x7f9f51dd7320>"
      ]
     },
     "metadata": {},
     "output_type": "display_data"
    }
   ],
   "source": [
    "myplot()"
   ]
  },
  {
   "cell_type": "markdown",
   "metadata": {},
   "source": [
    "We can now explore how things change by calling the function `myplot()` with different arguments.  For example"
   ]
  },
  {
   "cell_type": "code",
   "execution_count": 17,
   "metadata": {},
   "outputs": [
    {
     "data": {
      "image/png": "[encoded data removed]",
      "text/plain": [
       "<matplotlib.figure.Figure at 0x7f9f51da14a8>"
      ]
     },
     "metadata": {},
     "output_type": "display_data"
    },
    {
     "data": {
      "image/png": "[encoded data removed]",
      "text/plain": [
       "<matplotlib.figure.Figure at 0x7f9f51da1b38>"
      ]
     },
     "metadata": {},
     "output_type": "display_data"
    },
    {
     "data": {
      "image/png": "[encoded data removed]",
      "text/plain": [
       "<matplotlib.figure.Figure at 0x7f9f51bd7f60>"
      ]
     },
     "metadata": {},
     "output_type": "display_data"
    },
    {
     "data": {
      "image/png": "[encoded data removed]",
      "text/plain": [
       "<matplotlib.figure.Figure at 0x7f9f519f50b8>"
      ]
     },
     "metadata": {},
     "output_type": "display_data"
    },
    {
     "data": {
      "image/png": "[encoded data removed]",
      "text/plain": [
       "<matplotlib.figure.Figure at 0x7f9f51575080>"
      ]
     },
     "metadata": {},
     "output_type": "display_data"
    },
    {
     "data": {
      "image/png": "[encoded data removed]",
      "text/plain": [
       "<matplotlib.figure.Figure at 0x7f9f515873c8>"
      ]
     },
     "metadata": {},
     "output_type": "display_data"
    }
   ],
   "source": [
    "myplot(q=3.5, N=100)\n",
    "myplot(q=3.55, N=100)\n",
    "myplot(q=3.6, N=200)\n",
    "myplot(q=3.75, N=200)\n",
    "myplot(q=3.83, N=200)\n",
    "myplot(q=4.0, N=200)"
   ]
  },
  {
   "cell_type": "markdown",
   "metadata": {},
   "source": [
    "Note, how for different values of $q$ we obtain different *dynamics*. Sometimes the dynamics is periodic, i.e. it jumps between a finite number of different values. Other times, there are many values. This is a typical situation in a chaotic system, and in fact the presented one is arguably the simplest chaotic system. "
   ]
  },
  {
   "cell_type": "markdown",
   "metadata": {},
   "source": [
    "## Interactive plots"
   ]
  },
  {
   "cell_type": "markdown",
   "metadata": {},
   "source": [
    "To make our plots even more interactive, it would be nice if instead of calling our function `myplot()` with different arguments which are given by simple sliders. This can be done as follows:"
   ]
  },
  {
   "cell_type": "code",
   "execution_count": 21,
   "metadata": {},
   "outputs": [
    {
     "data": {
      "application/vnd.jupyter.widget-view+json": {
       "model_id": "08b21c8df14f4227b0ef3f472d0bef3f"
      }
     },
     "metadata": {},
     "output_type": "display_data"
    }
   ],
   "source": [
    "from ipywidgets import interact\n",
    "@interact(q=(0,4,0.01), x0=(0, 1, 0.01), N=(20,2000,10))\n",
    "def myplot(q = 3, x0 = 0.3, N = 20):\n",
    "    x = x0\n",
    "    plt.plot(0, x, \"bo\")\n",
    "\n",
    "    for i in range(1,N+1):\n",
    "        x = q * x * (1 - x)\n",
    "        plt.plot(i, x,\"bo\")\n",
    "\n",
    "    plt.title(\"q = \" + str(q))\n",
    "    plt.ylim([0,1])\n",
    "    plt.xlabel(\"i\")\n",
    "    plt.ylabel(\"x_i\")\n",
    "    plt.show()\n",
    "    "
   ]
  },
  {
   "cell_type": "markdown",
   "metadata": {},
   "source": [
    "## Cobweb diagrams\n",
    "\n",
    "(need to explain)"
   ]
  },
  {
   "cell_type": "code",
   "execution_count": 19,
   "metadata": {},
   "outputs": [
    {
     "name": "stderr",
     "output_type": "stream",
     "text": [
      "/usr/lib/python3.6/site-packages/IPython/html.py:14: ShimWarning: The `IPython.html` package has been deprecated since IPython 4.0. You should import from `notebook` instead. `IPython.html.widgets` has moved to `ipywidgets`.\n",
      "  \"`IPython.html.widgets` has moved to `ipywidgets`.\", ShimWarning)\n"
     ]
    },
    {
     "data": {
      "application/vnd.jupyter.widget-view+json": {
       "model_id": "3c28b7193e0346f596592e9d3efaf17a"
      }
     },
     "metadata": {},
     "output_type": "display_data"
    }
   ],
   "source": [
    "import numpy as np\n",
    "from IPython.html.widgets import interact\n",
    "@interact(q=(0,4,0.01), x0=(0, 1, 0.01), N=(20,2000,10))\n",
    "def cobweb(q = 3, x0 = 0.3, N = 20):\n",
    "    plt.figure(figsize=(7,7))\n",
    "    xold = x0\n",
    "    myx = np.linspace(0,1,100)\n",
    "    plt.plot(myx, q * myx * (1 - myx))\n",
    "    plt.plot(myx, myx)\n",
    "\n",
    "    for i in range(1,N+1):\n",
    "        x = q * xold * (1 - xold)\n",
    "        plt.plot([xold,xold,x], [xold,x,x],\"r-\")\n",
    "        xold = x\n",
    "\n",
    "    plt.title(\"q = \" + str(q))\n",
    "    plt.xlim([0,1])\n",
    "    plt.ylim([0,1])\n",
    "    plt.xlabel(\"$x_i$\")\n",
    "    plt.ylabel(\"$x_{i+1}$\")\n",
    "    plt.show()\n",
    "    "
   ]
  },
  {
   "cell_type": "markdown",
   "metadata": {},
   "source": [
    "## The bifurcation diagram\n",
    "\n",
    "(need to explain)\n",
    "\n",
    "- sweep $q$\n",
    "- plot for every $q$ the elements $x_{401}$ to $x_{500}$"
   ]
  },
  {
   "cell_type": "code",
   "execution_count": null,
   "metadata": {},
   "outputs": [],
   "source": [
    "%matplotlib inline\n",
    "def bifurcation_diagram(q_N=200, N_min=400, N=500):\n",
    "    qspace = np.linspace(2.5, 4, q_N)\n",
    "    x = 0.3\n",
    "    for q in qspace:\n",
    "        for i in range(1,N+1):\n",
    "            x = q * x * (1 - x)\n",
    "            if i > N_min:\n",
    "                plt.plot(q, x,\"r,\")\n",
    "    plt.show()\n",
    "            \n",
    "bifurcation_diagram()"
   ]
  },
  {
   "cell_type": "code",
   "execution_count": null,
   "metadata": {
    "collapsed": true
   },
   "outputs": [],
   "source": []
  }
 ],
 "metadata": {
  "kernelspec": {
   "display_name": "Python 3",
   "language": "python",
   "name": "python3"
  },
  "language_info": {
   "codemirror_mode": {
    "name": "ipython",
    "version": 3
   },
   "file_extension": ".py",
   "mimetype": "text/x-python",
   "name": "python",
   "nbconvert_exporter": "python",
   "pygments_lexer": "ipython3",
   "version": "3.6.4"
  },
  "toc": {
   "nav_menu": {},
   "number_sections": true,
   "sideBar": true,
   "skip_h1_title": false,
   "title_cell": "Table of Contents",
   "title_sidebar": "Contents",
   "toc_cell": false,
   "toc_position": {},
   "toc_section_display": true,
   "toc_window_display": false
  },
  "varInspector": {
   "cols": {
    "lenName": 16,
    "lenType": 16,
    "lenVar": 40
   },
   "kernels_config": {
    "python": {
     "delete_cmd_postfix": "",
     "delete_cmd_prefix": "del ",
     "library": "var_list.py",
     "varRefreshCmd": "print(var_dic_list())"
    },
    "r": {
     "delete_cmd_postfix": ") ",
     "delete_cmd_prefix": "rm(",
     "library": "var_list.r",
     "varRefreshCmd": "cat(var_dic_list()) "
    }
   },
   "types_to_exclude": [
    "module",
    "function",
    "builtin_function_or_method",
    "instance",
    "_Feature"
   ],
   "window_display": false
  }
 },
 "nbformat": 4,
 "nbformat_minor": 2
}
